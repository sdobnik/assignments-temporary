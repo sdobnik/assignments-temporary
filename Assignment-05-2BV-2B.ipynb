{
 "cells": [
  {
   "cell_type": "markdown",
   "metadata": {},
   "source": [
    "# A5: Natural Language Inference using Neural Networks\n",
    "\n",
    "by Adam Ek, Bill Noble, and others."
   ]
  },
  {
   "cell_type": "markdown",
   "metadata": {},
   "source": [
    "The lab is an exploration and learning exercise to be done in a group and also in discussion with the teachers and other students.\n",
    "\n",
    "Write all your answers and the code in the appropriate boxes below.\n",
    "\n",
    "\n",
    "In this lab we will work with neural networks for natural language inference. Our task is: given a premise sentence P and hypothesis H, what entailment relationship holds between them? Is H entailed by P, contradicted by P or neutral towards P?\n",
    "\n",
    "Given a sentence P, if H definitely describe something true given P then it is an **entailment**. If H describe something that's *maybe* true given P, it's **neutral**, and if H describe something that's definitely *false* given P it's a **contradiction**. "
   ]
  },
  {
   "cell_type": "markdown",
   "metadata": {},
   "source": [
    "## 1. Data"
   ]
  },
  {
   "cell_type": "markdown",
   "metadata": {},
   "source": [
    "We will explore natural language inference using neural networks on the SNLI dataset, described in [1]. \n",
    "\n",
    "There are two options for loading and working with the data.\n",
    "\n",
    "1. Download the data directly from the [SNLI website](https://nlp.stanford.edu/projects/snli/) and write a dataloader based on your dataloader from **A3: Distributed Representations and Language Models**.\n",
    "2. Use the `datasets` library to load the version on the [HuggingFace hub](https://huggingface.co/datasets/stanfordnlp/snli). Follow the steps in [the documentation](https://huggingface.co/docs/datasets/v2.19.0/loading#hugging-face-hub) for loading the dataset.\n",
    "\n",
    "[you can remove the template for whatever code you don't use]\n",
    "\n",
    "The data is organized as follows:\n",
    "\n",
    "* Column 1: Premise (sentence1)\n",
    "* Column 2: Hypothesis (sentence2)\n",
    "* Column 3: Relation (gold_label)\n",
    "\n",
    "**[3 marks]**"
   ]
  },
  {
   "cell_type": "code",
   "execution_count": 1,
   "metadata": {},
   "outputs": [
    {
     "name": "stdout",
     "output_type": "stream",
     "text": [
      "DatasetDict({\n",
      "    test: Dataset({\n",
      "        features: ['premise', 'hypothesis', 'label'],\n",
      "        num_rows: 9824\n",
      "    })\n",
      "    validation: Dataset({\n",
      "        features: ['premise', 'hypothesis', 'label'],\n",
      "        num_rows: 9842\n",
      "    })\n",
      "    train: Dataset({\n",
      "        features: ['premise', 'hypothesis', 'label'],\n",
      "        num_rows: 549367\n",
      "    })\n",
      "})\n",
      "{'premise': 'A person on a horse jumps over a broken down airplane.', 'hypothesis': 'A person is training his horse for a competition.', 'label': 1}\n"
     ]
    }
   ],
   "source": [
    "from datasets import load_dataset\n",
    "dataset = load_dataset(\"stanfordnlp/snli\")\n",
    "\n",
    "# filter out dataset instances which don't have any gold label and which are marked with -1 \n",
    "dataset = dataset.filter(lambda example: example['label'] in [0, 1, 2])\n",
    "\n",
    "ex = dataset['train'][0]\n",
    "print(dataset)\n",
    "print(ex)"
   ]
  },
  {
   "cell_type": "markdown",
   "metadata": {},
   "source": [
    "Notice that the dataset comes as a dictionary-like object with three splits: `'test'`, `'train'`, and `'validation'`. Each item is a dictionary containing a `'premise'`, `'hypothesis'`, and `'label'`."
   ]
  },
  {
   "cell_type": "markdown",
   "metadata": {},
   "source": [
    "## 2. Tokenization\n",
    "\n",
    "This data does not come pre-tokenized. Instead of training our own tokenizer, we can use the BERT tokenizer like in the preivous assignment. Even though we aren't using BERT the tokenizer works with any model. See the documentation on [using a pretrained tokenizer](https://huggingface.co/docs/tokenizers/en/quicktour#using-a-pretrained-tokenizer). **[1 mark]**"
   ]
  },
  {
   "cell_type": "code",
   "execution_count": 2,
   "metadata": {},
   "outputs": [
    {
     "name": "stdout",
     "output_type": "stream",
     "text": [
      "Encoding(num_tokens=14, attributes=[ids, type_ids, tokens, offsets, attention_mask, special_tokens_mask, overflowing])\n",
      "[101, 1037, 2711, 2006, 1037, 3586, 14523, 2058, 1037, 3714, 2091, 13297, 1012, 102]\n",
      "{'premise': 'A person on a horse jumps over a broken down airplane.', 'hypothesis': 'A person is training his horse for a competition.', 'label': 1, 'premise_ids': [101, 1037, 2711, 2006, 1037, 3586, 14523, 2058, 1037, 3714, 2091, 13297, 1012, 102], 'hypothesis_ids': [101, 1037, 2711, 2003, 2731, 2010, 3586, 2005, 1037, 2971, 1012, 102]}\n"
     ]
    }
   ],
   "source": [
    "from tokenizers import Tokenizer\n",
    "tokenizer = Tokenizer.from_pretrained(\"bert-base-uncased\")\n",
    "ex_encoding = tokenizer.encode(ex['premise'])\n",
    "ex_encoding_ids = tokenizer.encode(ex['premise']).ids\n",
    "print(ex_encoding)\n",
    "print(ex_encoding_ids)\n",
    "\n",
    "def encode(example):\n",
    "    # tokenize the premise\n",
    "    tokens_pre = tokenizer.encode(example['premise'])\n",
    "    # tokenize the hypothesis\n",
    "    tokens_hyp = tokenizer.encode(example['hypothesis'])\n",
    "    # add the tokenized versions to the example row\n",
    "    example['premise_ids'] = tokens_pre.ids\n",
    "    example['hypothesis_ids'] = tokens_hyp.ids\n",
    "    return example\n",
    "\n",
    "# map the encoding function to the full dataset\n",
    "dataset_encoded = dataset.map(encode)\n",
    "print(dataset_encoded['train'][0])"
   ]
  },
  {
   "cell_type": "markdown",
   "metadata": {},
   "source": [
    "## 2. Model"
   ]
  },
  {
   "cell_type": "markdown",
   "metadata": {},
   "source": [
    "In this part, we'll build the model for predicting the relationship between H and P.\n",
    "\n",
    "We will process each sentence using an LSTM. Then, we will construct some representation of the sentence. When we have a representation for H and P, we will combine them into one vector which we can use to predict the relationship."
   ]
  },
  {
   "cell_type": "markdown",
   "metadata": {},
   "source": [
    "We will train a model described in [2], the BiLSTM with max-pooling model. The procedure for the model is roughly:\n",
    "\n",
    "    1) Encode the Hypothesis and the Premise using one shared bidirectional LSTM (or two different LSTMS)\n",
    "    2) Perform max over the tokens in the premise and the hypothesis\n",
    "    3) Combine the encoded premise and encoded hypothesis into one representation\n",
    "    4) Predict the relationship "
   ]
  },
  {
   "cell_type": "markdown",
   "metadata": {},
   "source": [
    "### Creating a representation of a sentence\n",
    "\n",
    "Let's first consider step 2 where we perform pooling. There is a builtin function in pytorch for this, but we'll implement it from scratch. \n",
    "\n",
    "Let's consider the general case, what we want to do for these methods is apply some function $f$ along dimension $i$, and we want to do this for all $i$'s. As an example we consider the matrix S with size ``(N, D)`` where N is the number of words and D the number of dimensions:\n",
    "\n",
    "$S = \\begin{bmatrix}\n",
    "    s_{11} & s_{12} & s_{13} & \\dots  & s_{1d} \\\\\n",
    "    s_{21} & s_{22} & s_{23} & \\dots  & s_{2d} \\\\\n",
    "    \\vdots & \\vdots & \\vdots & \\ddots & \\vdots \\\\\n",
    "    s_{n1} & s_{n2} & s_{n3} & \\dots  & s_{nd}\n",
    "\\end{bmatrix}$\n",
    "\n",
    "What we want to do is apply our function $f$ on each dimension, taking the input $s_{1d}, s_{2d}, ..., s_{nd}$ and generating the output $x_d$. \n",
    "\n",
    "You will implement the max pooling method. When performing max-pooling, $max$ will be the function which selects a _maximum_ value from a vector and $x$ is the output, thus for each dimension $d$ in our output $x$ we get:\n",
    "\n",
    "\\begin{equation}\n",
    "    x_d = max(s_{1d}, s_{2d}, ..., s_{nd})\n",
    "\\end{equation}\n",
    "\n",
    "This operation will reduce a batch of size ``(batch_size, num_words, dimensions)`` to ``(batch_size, dimensions)`` meaning that we now have created a sentence representation based on the content of the representation at each token position. \n",
    "\n",
    "Create a function that takes as input a tensor of size ``(batch_size, num_words, dimensions)`` then performs max pooling and returns the result (the output should be of size: ```(batch_size, dimensions)```). [**4 Marks**]"
   ]
  },
  {
   "cell_type": "code",
   "execution_count": 3,
   "metadata": {},
   "outputs": [
    {
     "name": "stdout",
     "output_type": "stream",
     "text": [
      "torch.Size([32, 512])\n"
     ]
    }
   ],
   "source": [
    "import torch\n",
    "\n",
    "def max_pooling(input_tensor):\n",
    "    output_tensor, _ = torch.max(input_tensor, 1)\n",
    "    return output_tensor\n",
    "\n",
    "test_unpooled = torch.rand(32, 100, 512)\n",
    "test_pooled = max_pooling(test_unpooled)\n",
    "print(test_pooled.size()) # should be torch.Size([32, 512])"
   ]
  },
  {
   "cell_type": "markdown",
   "metadata": {},
   "source": [
    "### Combining sentence representations\n",
    "\n",
    "Next, we need to combine the premise and hypothesis into one representation. We will do this by concatenating four tensors (the final size of our tensor $X$ should be ``(batch_size, 4d)`` where ``d`` is the number of dimensions that you use): \n",
    "\n",
    "$$X = [P; H; |P-H|; P \\cdot H]$$\n",
    "\n",
    "Here, what we do is concatenating P, H, P times H, and the absolute value of P minus H, then return the result.\n",
    "\n",
    "Implement the function. **[4 marks]**"
   ]
  },
  {
   "cell_type": "code",
   "execution_count": 4,
   "metadata": {},
   "outputs": [
    {
     "name": "stdout",
     "output_type": "stream",
     "text": [
      "torch.Size([32, 2048])\n"
     ]
    }
   ],
   "source": [
    "def combine_premise_and_hypothesis(premise, hypothesis):\n",
    "    output = torch.cat((premise, hypothesis, abs(premise - hypothesis), premise * hypothesis), 1)\n",
    "    return output\n",
    "\n",
    "test_hypothesis = test_pooled.clone()\n",
    "test_premise = test_pooled.clone()\n",
    "test_combined = combine_premise_and_hypothesis(test_hypothesis, test_premise)\n",
    "print(test_combined.size()) # should be torch.Size([32, 400]) not it's supposed to be torch.Size([32, 2048]), 100 is the num_words dim"
   ]
  },
  {
   "cell_type": "markdown",
   "metadata": {},
   "source": [
    "### Creating the model\n",
    "\n",
    "Finally, we can build the model according to the procedure given previously by using the functions we defined above. Additionaly, in the model you should use *dropout*. For efficiency purposes, it's acceptable to only train the model with either max or mean pooling. \n",
    "\n",
    "Implement the model [**8 marks**]"
   ]
  },
  {
   "cell_type": "code",
   "execution_count": 5,
   "metadata": {},
   "outputs": [
    {
     "name": "stdout",
     "output_type": "stream",
     "text": [
      "30522\n"
     ]
    }
   ],
   "source": [
    "vocab_size = tokenizer.get_vocab_size()\n",
    "print(vocab_size)"
   ]
  },
  {
   "cell_type": "code",
   "execution_count": 6,
   "metadata": {},
   "outputs": [],
   "source": [
    "import torch.nn as nn\n",
    "\n",
    "class SNLIModel(nn.Module):\n",
    "    def __init__(self, vocab_size=vocab_size, embeddings_dim=128, hidden_dim=32, num_labels=3):\n",
    "        # your code goes here\n",
    "        super().__init__()\n",
    "        self.embeddings = nn.Embedding(vocab_size, embeddings_dim, padding_idx=0)\n",
    "        self.dropout1 = nn.Dropout(p=0.2)\n",
    "        self.rnn = nn.LSTM(embeddings_dim, hidden_dim, bidirectional=True, batch_first=True)\n",
    "        self.dropout2 = nn.Dropout(p=0.2)\n",
    "        self.classifier = nn.Linear(hidden_dim *8, num_labels)\n",
    "        \n",
    "    def forward(self, premise, hypothesis):\n",
    "        # two dropout layers after embeddings and LSTM\n",
    "        p_in = self.embeddings(premise)\n",
    "        p_in = self.dropout1(p_in)\n",
    "        h_in = self.embeddings(hypothesis)\n",
    "        h_in = self.dropout1(h_in)\n",
    "\n",
    "        p_out, _ = self.rnn(p_in)\n",
    "        h_out, _ = self.rnn(h_in)\n",
    "        p_out = self.dropout2(p_out)\n",
    "        h_out = self.dropout2(h_out)\n",
    "\n",
    "        p_pooled = max_pooling(p_out)\n",
    "        h_pooled = max_pooling(h_out)\n",
    "        \n",
    "        ph_representation = combine_premise_and_hypothesis(p_pooled, h_pooled)\n",
    "        predictions = self.classifier(ph_representation)\n",
    "        \n",
    "        return predictions\n",
    "    "
   ]
  },
  {
   "cell_type": "markdown",
   "metadata": {},
   "source": [
    "## 3. Training"
   ]
  },
  {
   "cell_type": "markdown",
   "metadata": {},
   "source": [
    "As before, implement the training and testing of the model. SNLI can take a very long time to train, so I suggest you only run it for one or two epochs. **[10 marks]** \n",
    "\n",
    "**Tip for efficiency:** *when developing your model, try training and testing the model on one batch (for each epoch) of data to make sure everything works! It's very annoying if you train for N epochs to find out that something went wrong when testing the model, or to find that something goes wrong when moving from epoch 0 to epoch 1.*"
   ]
  },
  {
   "cell_type": "code",
   "execution_count": 7,
   "metadata": {},
   "outputs": [
    {
     "name": "stdout",
     "output_type": "stream",
     "text": [
      "0.9071731670871357\n",
      "\n"
     ]
    }
   ],
   "source": [
    "device = torch.device('cuda:2')\n",
    "\n",
    "import torch.optim as optim\n",
    "\n",
    "epochs = 2\n",
    "batch_size = 8\n",
    "\n",
    "train_iter = dataset_encoded['train'].iter(batch_size=batch_size)\n",
    "\n",
    "model = SNLIModel(vocab_size=vocab_size, embeddings_dim=128, hidden_dim=32, num_labels=3).to(device)\n",
    "loss_function = nn.CrossEntropyLoss()\n",
    "optimizer = optim.Adam(model.parameters(), lr=1e-4)\n",
    "\n",
    "\n",
    "for _ in range(epochs):\n",
    "    model.train()\n",
    "    \n",
    "    # train model\n",
    "    total_loss = 0\n",
    "    for i, batch in enumerate(train_iter):\n",
    "        premise = batch['premise_ids']\n",
    "        hypothesis = batch['hypothesis_ids']\n",
    "        # first pad both premises and hypothesis to max_len for each of them\n",
    "        max_len_p = max([len(prem) for prem in premise])\n",
    "        for prem in premise:\n",
    "            if len(prem) < max_len_p:\n",
    "                prem += [0] *(max_len_p - len(prem))\n",
    "        max_len_h = max([len(hyp) for hyp in hypothesis])\n",
    "        for hyp in hypothesis:\n",
    "            if len(hyp) < max_len_h:\n",
    "                hyp += [0] *(max_len_h - len(hyp))\n",
    "        # convert to tensors\n",
    "        premise = torch.tensor(premise).to(device)    \n",
    "        hypothesis = torch.tensor(hypothesis).to(device)\n",
    "        label = torch.tensor(batch['label']).to(device)\n",
    "        # reset the gradients\n",
    "        optimizer.zero_grad()\n",
    "        # predict\n",
    "        prediction = model(premise, hypothesis)\n",
    "        # calculate loss\n",
    "        loss = loss_function(prediction, label)\n",
    "        # backpropagation\n",
    "        loss.backward()\n",
    "        # optimization / update weigts\n",
    "        optimizer.step()\n",
    "        # update loss for this epoch\n",
    "        total_loss += loss.item()\n",
    "        print(total_loss/(i+1), end='\\r')\n",
    "    print()"
   ]
  },
  {
   "cell_type": "markdown",
   "metadata": {},
   "source": [
    "## 4. Testing\n",
    "\n",
    "Test the model on the testset. For each example in the test set, compute a prediction from the model (`entailment`, `contradiction` or `neutral`). Compute precision, recall, and F1 score for each label. **[10 marks]**"
   ]
  },
  {
   "cell_type": "code",
   "execution_count": 8,
   "metadata": {},
   "outputs": [
    {
     "name": "stdout",
     "output_type": "stream",
     "text": [
      "accuracy:  0.67\n",
      "precision:  0.67\n",
      "recall:  0.67\n",
      "f1:  0.66\n",
      "               precision    recall  f1-score   support\n",
      "\n",
      "   entailment       0.65      0.80      0.72      3368\n",
      "      neutral       0.67      0.59      0.63      3219\n",
      "contradiction       0.69      0.61      0.65      3237\n",
      "\n",
      "     accuracy                           0.67      9824\n",
      "    macro avg       0.67      0.66      0.66      9824\n",
      " weighted avg       0.67      0.67      0.66      9824\n",
      "\n"
     ]
    }
   ],
   "source": [
    "from sklearn.metrics import accuracy_score, precision_score, recall_score, f1_score, classification_report\n",
    "\n",
    "test_iter = dataset_encoded['test'].iter(batch_size=batch_size)\n",
    "\n",
    "model.eval()\n",
    "all_labels = []\n",
    "all_predictions = []\n",
    "\n",
    "with torch.no_grad():\n",
    "    for batch in test_iter:\n",
    "        premise = batch['premise_ids']\n",
    "        max_len_p = max([len(prem) for prem in premise])\n",
    "        for prem in premise:\n",
    "            if len(prem) < max_len_p:\n",
    "                prem += [0] *(max_len_p - len(prem))\n",
    "        hypothesis = batch['hypothesis_ids']\n",
    "        max_len_h = max([len(hyp) for hyp in hypothesis])\n",
    "        for hyp in hypothesis:\n",
    "            if len(hyp) < max_len_h:\n",
    "                hyp += [0] *(max_len_h - len(hyp))\n",
    "        # convert to tensors\n",
    "        premise = torch.tensor(premise).to(device)    \n",
    "        hypothesis = torch.tensor(hypothesis).to(device)\n",
    "        label = batch['label']\n",
    "        \n",
    "        output = model(premise, hypothesis)\n",
    "        prediction = torch.argmax(output, dim =1)\n",
    "\n",
    "        # update the lists\n",
    "        all_labels += label\n",
    "        all_predictions += prediction.tolist()\n",
    "\n",
    "accuracy = accuracy_score(all_labels, all_predictions)\n",
    "precision = precision_score(all_labels, all_predictions, average='weighted')\n",
    "recall = recall_score(all_labels, all_predictions, average='weighted')\n",
    "f1 = f1_score(all_labels, all_predictions, average='weighted')\n",
    "\n",
    "print('accuracy: ', round(accuracy, 2))\n",
    "print('precision: ', round(precision, 2))\n",
    "print('recall: ', round(recall, 2))\n",
    "print('f1: ', round(f1, 2))\n",
    "\n",
    "labels = [0, 1, 2]\n",
    "target_names = ['entailment', 'neutral', 'contradiction'] # looking at the dataset on https://huggingface.co/datasets/stanfordnlp/snli\n",
    "report = classification_report(all_labels, all_predictions, labels=labels, target_names=target_names)\n",
    "print(report)"
   ]
  },
  {
   "cell_type": "markdown",
   "metadata": {},
   "source": [
    "Suggest a _baseline_ that we can compare our model against **[2 marks]**"
   ]
  },
  {
   "cell_type": "markdown",
   "metadata": {},
   "source": [
    "A baseline model could be a 'dumb' model only predicting a label randomly. Since there are 3 labels to predict from, this baseline model would get an accuracy of about 33%."
   ]
  },
  {
   "cell_type": "markdown",
   "metadata": {},
   "source": [
    "Our model got the accuracy of about 67%, which doubles the baseline accuracy. We can say that it performs well."
   ]
  },
  {
   "cell_type": "markdown",
   "metadata": {},
   "source": [
    "Suggest some ways (other than using a baseline) in which we can analyse the models performance **[3 marks]**."
   ]
  },
  {
   "cell_type": "markdown",
   "metadata": {},
   "source": [
    "- We could compare the model's performance to that of some other SNLI models.\n",
    "- We could use existing dataset as benchmark (e.g. RTE) to test the performance of the model.\n",
    "- We can try simple transfer learning and compare results with some exising other NLI models."
   ]
  },
  {
   "cell_type": "markdown",
   "metadata": {},
   "source": [
    "Suggest some ways to improve the model **[3 marks]**."
   ]
  },
  {
   "cell_type": "markdown",
   "metadata": {},
   "source": [
    "- Check the balance between the labels\n",
    "- If we got imbalanced data, we use stratified sampling method on data splitting.\n",
    "- Shuffle the dataset to get more balanced data\n",
    "- Optimization: We can try tuning the hyper parameter\n",
    "    - (e.g.) embedding size, batch size, hidden dimension, epochs, learning rate, number of layers, dropout"
   ]
  },
  {
   "cell_type": "markdown",
   "metadata": {},
   "source": [
    "## Readings\n",
    "\n",
    "[1] Samuel R. Bowman, Gabor Angeli, Christopher Potts, and Christopher D. Manning. 2015. A large annotated corpus for learning natural language inference. In Proceedings of the 2015 Conference on Empirical Methods in Natural Language Processing (EMNLP). \n",
    "\n",
    "[2] Conneau, A., Kiela, D., Schwenk, H., Barrault, L., & Bordes, A. (2017). Supervised learning of universal sentence representations from natural language inference data. arXiv preprint arXiv:1705.02364."
   ]
  },
  {
   "cell_type": "markdown",
   "metadata": {},
   "source": [
    "## Statement of contribution\n",
    "\n",
    "Briefly state how many times you have met for discussions, who was present, to what degree each member contributed to the discussion and the final answers you are submitting.\n",
    "Before the questions session (5/6) we met one (3 on site and one online), 3 hours in total. \n",
    "After the question session, we met twice for 2 hours to finalize the model."
   ]
  },
  {
   "cell_type": "markdown",
   "metadata": {},
   "source": [
    "## Marks\n",
    "\n",
    "This assignment has a total of 23 marks."
   ]
  }
 ],
 "metadata": {
  "kernelspec": {
   "display_name": "Python 3 (ipykernel)",
   "language": "python",
   "name": "python3"
  },
  "language_info": {
   "codemirror_mode": {
    "name": "ipython",
    "version": 3
   },
   "file_extension": ".py",
   "mimetype": "text/x-python",
   "name": "python",
   "nbconvert_exporter": "python",
   "pygments_lexer": "ipython3",
   "version": "3.12.3"
  }
 },
 "nbformat": 4,
 "nbformat_minor": 4
}
